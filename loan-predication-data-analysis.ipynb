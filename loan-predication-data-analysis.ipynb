{
 "cells": [
  {
   "cell_type": "markdown",
   "id": "cfa9870f",
   "metadata": {
    "papermill": {
     "duration": 0.041277,
     "end_time": "2022-06-18T02:01:59.039512",
     "exception": false,
     "start_time": "2022-06-18T02:01:58.998235",
     "status": "completed"
    },
    "tags": []
   },
   "source": [
    "**Loan Predication Data Analysis**\n",
    "\n"
   ]
  },
  {
   "cell_type": "code",
   "execution_count": 1,
   "id": "e9e2bb51",
   "metadata": {
    "execution": {
     "iopub.execute_input": "2022-06-18T02:01:59.120444Z",
     "iopub.status.busy": "2022-06-18T02:01:59.119760Z",
     "iopub.status.idle": "2022-06-18T02:02:00.536364Z",
     "shell.execute_reply": "2022-06-18T02:02:00.535477Z"
    },
    "papermill": {
     "duration": 1.461815,
     "end_time": "2022-06-18T02:02:00.539278",
     "exception": false,
     "start_time": "2022-06-18T02:01:59.077463",
     "status": "completed"
    },
    "tags": []
   },
   "outputs": [],
   "source": [
    "# Importing Libraries\n",
    "import pandas as pd\n",
    "import numpy as np\n",
    "import matplotlib.pyplot as plt\n",
    "import seaborn as sns\n",
    "from sklearn.model_selection import train_test_split\n",
    "from sklearn import svm\n",
    "from sklearn.metrics import accuracy_score"
   ]
  },
  {
   "cell_type": "code",
   "execution_count": 2,
   "id": "d2557237",
   "metadata": {
    "execution": {
     "iopub.execute_input": "2022-06-18T02:02:00.616903Z",
     "iopub.status.busy": "2022-06-18T02:02:00.616602Z",
     "iopub.status.idle": "2022-06-18T02:02:00.659554Z",
     "shell.execute_reply": "2022-06-18T02:02:00.658652Z"
    },
    "papermill": {
     "duration": 0.084382,
     "end_time": "2022-06-18T02:02:00.661841",
     "exception": false,
     "start_time": "2022-06-18T02:02:00.577459",
     "status": "completed"
    },
    "tags": []
   },
   "outputs": [
    {
     "data": {
      "text/html": [
       "<div>\n",
       "<style scoped>\n",
       "    .dataframe tbody tr th:only-of-type {\n",
       "        vertical-align: middle;\n",
       "    }\n",
       "\n",
       "    .dataframe tbody tr th {\n",
       "        vertical-align: top;\n",
       "    }\n",
       "\n",
       "    .dataframe thead th {\n",
       "        text-align: right;\n",
       "    }\n",
       "</style>\n",
       "<table border=\"1\" class=\"dataframe\">\n",
       "  <thead>\n",
       "    <tr style=\"text-align: right;\">\n",
       "      <th></th>\n",
       "      <th>Loan_ID</th>\n",
       "      <th>Gender</th>\n",
       "      <th>Married</th>\n",
       "      <th>Dependents</th>\n",
       "      <th>Education</th>\n",
       "      <th>Self_Employed</th>\n",
       "      <th>ApplicantIncome</th>\n",
       "      <th>CoapplicantIncome</th>\n",
       "      <th>LoanAmount</th>\n",
       "      <th>Loan_Amount_Term</th>\n",
       "      <th>Credit_History</th>\n",
       "      <th>Property_Area</th>\n",
       "      <th>Loan_Status</th>\n",
       "    </tr>\n",
       "  </thead>\n",
       "  <tbody>\n",
       "    <tr>\n",
       "      <th>0</th>\n",
       "      <td>LP001002</td>\n",
       "      <td>Male</td>\n",
       "      <td>No</td>\n",
       "      <td>0</td>\n",
       "      <td>Graduate</td>\n",
       "      <td>No</td>\n",
       "      <td>5849</td>\n",
       "      <td>0.0</td>\n",
       "      <td>NaN</td>\n",
       "      <td>360.0</td>\n",
       "      <td>1.0</td>\n",
       "      <td>Urban</td>\n",
       "      <td>Y</td>\n",
       "    </tr>\n",
       "    <tr>\n",
       "      <th>1</th>\n",
       "      <td>LP001003</td>\n",
       "      <td>Male</td>\n",
       "      <td>Yes</td>\n",
       "      <td>1</td>\n",
       "      <td>Graduate</td>\n",
       "      <td>No</td>\n",
       "      <td>4583</td>\n",
       "      <td>1508.0</td>\n",
       "      <td>128.0</td>\n",
       "      <td>360.0</td>\n",
       "      <td>1.0</td>\n",
       "      <td>Rural</td>\n",
       "      <td>N</td>\n",
       "    </tr>\n",
       "    <tr>\n",
       "      <th>2</th>\n",
       "      <td>LP001005</td>\n",
       "      <td>Male</td>\n",
       "      <td>Yes</td>\n",
       "      <td>0</td>\n",
       "      <td>Graduate</td>\n",
       "      <td>Yes</td>\n",
       "      <td>3000</td>\n",
       "      <td>0.0</td>\n",
       "      <td>66.0</td>\n",
       "      <td>360.0</td>\n",
       "      <td>1.0</td>\n",
       "      <td>Urban</td>\n",
       "      <td>Y</td>\n",
       "    </tr>\n",
       "    <tr>\n",
       "      <th>3</th>\n",
       "      <td>LP001006</td>\n",
       "      <td>Male</td>\n",
       "      <td>Yes</td>\n",
       "      <td>0</td>\n",
       "      <td>Not Graduate</td>\n",
       "      <td>No</td>\n",
       "      <td>2583</td>\n",
       "      <td>2358.0</td>\n",
       "      <td>120.0</td>\n",
       "      <td>360.0</td>\n",
       "      <td>1.0</td>\n",
       "      <td>Urban</td>\n",
       "      <td>Y</td>\n",
       "    </tr>\n",
       "    <tr>\n",
       "      <th>4</th>\n",
       "      <td>LP001008</td>\n",
       "      <td>Male</td>\n",
       "      <td>No</td>\n",
       "      <td>0</td>\n",
       "      <td>Graduate</td>\n",
       "      <td>No</td>\n",
       "      <td>6000</td>\n",
       "      <td>0.0</td>\n",
       "      <td>141.0</td>\n",
       "      <td>360.0</td>\n",
       "      <td>1.0</td>\n",
       "      <td>Urban</td>\n",
       "      <td>Y</td>\n",
       "    </tr>\n",
       "  </tbody>\n",
       "</table>\n",
       "</div>"
      ],
      "text/plain": [
       "    Loan_ID Gender Married Dependents     Education Self_Employed  \\\n",
       "0  LP001002   Male      No          0      Graduate            No   \n",
       "1  LP001003   Male     Yes          1      Graduate            No   \n",
       "2  LP001005   Male     Yes          0      Graduate           Yes   \n",
       "3  LP001006   Male     Yes          0  Not Graduate            No   \n",
       "4  LP001008   Male      No          0      Graduate            No   \n",
       "\n",
       "   ApplicantIncome  CoapplicantIncome  LoanAmount  Loan_Amount_Term  \\\n",
       "0             5849                0.0         NaN             360.0   \n",
       "1             4583             1508.0       128.0             360.0   \n",
       "2             3000                0.0        66.0             360.0   \n",
       "3             2583             2358.0       120.0             360.0   \n",
       "4             6000                0.0       141.0             360.0   \n",
       "\n",
       "   Credit_History Property_Area Loan_Status  \n",
       "0             1.0         Urban           Y  \n",
       "1             1.0         Rural           N  \n",
       "2             1.0         Urban           Y  \n",
       "3             1.0         Urban           Y  \n",
       "4             1.0         Urban           Y  "
      ]
     },
     "execution_count": 2,
     "metadata": {},
     "output_type": "execute_result"
    }
   ],
   "source": [
    "loan_df= pd.read_csv('../input/loan-predication/train_u6lujuX_CVtuZ9i (1).csv')\n",
    "loan_df.head()"
   ]
  },
  {
   "cell_type": "markdown",
   "id": "3237460a",
   "metadata": {
    "papermill": {
     "duration": 0.038336,
     "end_time": "2022-06-18T02:02:00.740881",
     "exception": false,
     "start_time": "2022-06-18T02:02:00.702545",
     "status": "completed"
    },
    "tags": []
   },
   "source": [
    "**Data Preparation and Cleaning**"
   ]
  },
  {
   "cell_type": "code",
   "execution_count": 3,
   "id": "f8cca622",
   "metadata": {
    "execution": {
     "iopub.execute_input": "2022-06-18T02:02:00.819838Z",
     "iopub.status.busy": "2022-06-18T02:02:00.819165Z",
     "iopub.status.idle": "2022-06-18T02:02:00.845443Z",
     "shell.execute_reply": "2022-06-18T02:02:00.844792Z"
    },
    "papermill": {
     "duration": 0.068309,
     "end_time": "2022-06-18T02:02:00.847705",
     "exception": false,
     "start_time": "2022-06-18T02:02:00.779396",
     "status": "completed"
    },
    "tags": []
   },
   "outputs": [
    {
     "name": "stdout",
     "output_type": "stream",
     "text": [
      "<class 'pandas.core.frame.DataFrame'>\n",
      "RangeIndex: 614 entries, 0 to 613\n",
      "Data columns (total 13 columns):\n",
      " #   Column             Non-Null Count  Dtype  \n",
      "---  ------             --------------  -----  \n",
      " 0   Loan_ID            614 non-null    object \n",
      " 1   Gender             601 non-null    object \n",
      " 2   Married            611 non-null    object \n",
      " 3   Dependents         599 non-null    object \n",
      " 4   Education          614 non-null    object \n",
      " 5   Self_Employed      582 non-null    object \n",
      " 6   ApplicantIncome    614 non-null    int64  \n",
      " 7   CoapplicantIncome  614 non-null    float64\n",
      " 8   LoanAmount         592 non-null    float64\n",
      " 9   Loan_Amount_Term   600 non-null    float64\n",
      " 10  Credit_History     564 non-null    float64\n",
      " 11  Property_Area      614 non-null    object \n",
      " 12  Loan_Status        614 non-null    object \n",
      "dtypes: float64(4), int64(1), object(8)\n",
      "memory usage: 62.5+ KB\n"
     ]
    }
   ],
   "source": [
    "loan_df.info()"
   ]
  },
  {
   "cell_type": "code",
   "execution_count": 4,
   "id": "07ce79af",
   "metadata": {
    "execution": {
     "iopub.execute_input": "2022-06-18T02:02:00.928333Z",
     "iopub.status.busy": "2022-06-18T02:02:00.928033Z",
     "iopub.status.idle": "2022-06-18T02:02:00.955855Z",
     "shell.execute_reply": "2022-06-18T02:02:00.955264Z"
    },
    "papermill": {
     "duration": 0.073393,
     "end_time": "2022-06-18T02:02:00.960233",
     "exception": false,
     "start_time": "2022-06-18T02:02:00.886840",
     "status": "completed"
    },
    "tags": []
   },
   "outputs": [
    {
     "data": {
      "text/html": [
       "<div>\n",
       "<style scoped>\n",
       "    .dataframe tbody tr th:only-of-type {\n",
       "        vertical-align: middle;\n",
       "    }\n",
       "\n",
       "    .dataframe tbody tr th {\n",
       "        vertical-align: top;\n",
       "    }\n",
       "\n",
       "    .dataframe thead th {\n",
       "        text-align: right;\n",
       "    }\n",
       "</style>\n",
       "<table border=\"1\" class=\"dataframe\">\n",
       "  <thead>\n",
       "    <tr style=\"text-align: right;\">\n",
       "      <th></th>\n",
       "      <th>ApplicantIncome</th>\n",
       "      <th>CoapplicantIncome</th>\n",
       "      <th>LoanAmount</th>\n",
       "      <th>Loan_Amount_Term</th>\n",
       "      <th>Credit_History</th>\n",
       "    </tr>\n",
       "  </thead>\n",
       "  <tbody>\n",
       "    <tr>\n",
       "      <th>count</th>\n",
       "      <td>614.000000</td>\n",
       "      <td>614.000000</td>\n",
       "      <td>592.000000</td>\n",
       "      <td>600.00000</td>\n",
       "      <td>564.000000</td>\n",
       "    </tr>\n",
       "    <tr>\n",
       "      <th>mean</th>\n",
       "      <td>5403.459283</td>\n",
       "      <td>1621.245798</td>\n",
       "      <td>146.412162</td>\n",
       "      <td>342.00000</td>\n",
       "      <td>0.842199</td>\n",
       "    </tr>\n",
       "    <tr>\n",
       "      <th>std</th>\n",
       "      <td>6109.041673</td>\n",
       "      <td>2926.248369</td>\n",
       "      <td>85.587325</td>\n",
       "      <td>65.12041</td>\n",
       "      <td>0.364878</td>\n",
       "    </tr>\n",
       "    <tr>\n",
       "      <th>min</th>\n",
       "      <td>150.000000</td>\n",
       "      <td>0.000000</td>\n",
       "      <td>9.000000</td>\n",
       "      <td>12.00000</td>\n",
       "      <td>0.000000</td>\n",
       "    </tr>\n",
       "    <tr>\n",
       "      <th>25%</th>\n",
       "      <td>2877.500000</td>\n",
       "      <td>0.000000</td>\n",
       "      <td>100.000000</td>\n",
       "      <td>360.00000</td>\n",
       "      <td>1.000000</td>\n",
       "    </tr>\n",
       "    <tr>\n",
       "      <th>50%</th>\n",
       "      <td>3812.500000</td>\n",
       "      <td>1188.500000</td>\n",
       "      <td>128.000000</td>\n",
       "      <td>360.00000</td>\n",
       "      <td>1.000000</td>\n",
       "    </tr>\n",
       "    <tr>\n",
       "      <th>75%</th>\n",
       "      <td>5795.000000</td>\n",
       "      <td>2297.250000</td>\n",
       "      <td>168.000000</td>\n",
       "      <td>360.00000</td>\n",
       "      <td>1.000000</td>\n",
       "    </tr>\n",
       "    <tr>\n",
       "      <th>max</th>\n",
       "      <td>81000.000000</td>\n",
       "      <td>41667.000000</td>\n",
       "      <td>700.000000</td>\n",
       "      <td>480.00000</td>\n",
       "      <td>1.000000</td>\n",
       "    </tr>\n",
       "  </tbody>\n",
       "</table>\n",
       "</div>"
      ],
      "text/plain": [
       "       ApplicantIncome  CoapplicantIncome  LoanAmount  Loan_Amount_Term  \\\n",
       "count       614.000000         614.000000  592.000000         600.00000   \n",
       "mean       5403.459283        1621.245798  146.412162         342.00000   \n",
       "std        6109.041673        2926.248369   85.587325          65.12041   \n",
       "min         150.000000           0.000000    9.000000          12.00000   \n",
       "25%        2877.500000           0.000000  100.000000         360.00000   \n",
       "50%        3812.500000        1188.500000  128.000000         360.00000   \n",
       "75%        5795.000000        2297.250000  168.000000         360.00000   \n",
       "max       81000.000000       41667.000000  700.000000         480.00000   \n",
       "\n",
       "       Credit_History  \n",
       "count      564.000000  \n",
       "mean         0.842199  \n",
       "std          0.364878  \n",
       "min          0.000000  \n",
       "25%          1.000000  \n",
       "50%          1.000000  \n",
       "75%          1.000000  \n",
       "max          1.000000  "
      ]
     },
     "execution_count": 4,
     "metadata": {},
     "output_type": "execute_result"
    }
   ],
   "source": [
    "loan_df.describe()"
   ]
  },
  {
   "cell_type": "code",
   "execution_count": 5,
   "id": "ceba97fc",
   "metadata": {
    "execution": {
     "iopub.execute_input": "2022-06-18T02:02:01.043721Z",
     "iopub.status.busy": "2022-06-18T02:02:01.043186Z",
     "iopub.status.idle": "2022-06-18T02:02:01.048372Z",
     "shell.execute_reply": "2022-06-18T02:02:01.047743Z"
    },
    "papermill": {
     "duration": 0.049946,
     "end_time": "2022-06-18T02:02:01.050209",
     "exception": false,
     "start_time": "2022-06-18T02:02:01.000263",
     "status": "completed"
    },
    "tags": []
   },
   "outputs": [
    {
     "data": {
      "text/plain": [
       "Index(['Loan_ID', 'Gender', 'Married', 'Dependents', 'Education',\n",
       "       'Self_Employed', 'ApplicantIncome', 'CoapplicantIncome', 'LoanAmount',\n",
       "       'Loan_Amount_Term', 'Credit_History', 'Property_Area', 'Loan_Status'],\n",
       "      dtype='object')"
      ]
     },
     "execution_count": 5,
     "metadata": {},
     "output_type": "execute_result"
    }
   ],
   "source": [
    "loan_df.columns"
   ]
  },
  {
   "cell_type": "code",
   "execution_count": 6,
   "id": "36557e28",
   "metadata": {
    "execution": {
     "iopub.execute_input": "2022-06-18T02:02:01.132967Z",
     "iopub.status.busy": "2022-06-18T02:02:01.132649Z",
     "iopub.status.idle": "2022-06-18T02:02:01.138256Z",
     "shell.execute_reply": "2022-06-18T02:02:01.137602Z"
    },
    "papermill": {
     "duration": 0.048898,
     "end_time": "2022-06-18T02:02:01.140184",
     "exception": false,
     "start_time": "2022-06-18T02:02:01.091286",
     "status": "completed"
    },
    "tags": []
   },
   "outputs": [],
   "source": [
    "loan_df['Loan_Status'].replace('N',0,inplace=True)\n",
    "loan_df['Loan_Status'].replace('Y',1,inplace=True)"
   ]
  },
  {
   "cell_type": "code",
   "execution_count": 7,
   "id": "4c1fbfed",
   "metadata": {
    "execution": {
     "iopub.execute_input": "2022-06-18T02:02:01.222522Z",
     "iopub.status.busy": "2022-06-18T02:02:01.222005Z",
     "iopub.status.idle": "2022-06-18T02:02:01.228722Z",
     "shell.execute_reply": "2022-06-18T02:02:01.227864Z"
    },
    "papermill": {
     "duration": 0.050175,
     "end_time": "2022-06-18T02:02:01.230692",
     "exception": false,
     "start_time": "2022-06-18T02:02:01.180517",
     "status": "completed"
    },
    "tags": []
   },
   "outputs": [
    {
     "data": {
      "text/plain": [
       "1    422\n",
       "0    192\n",
       "Name: Loan_Status, dtype: int64"
      ]
     },
     "execution_count": 7,
     "metadata": {},
     "output_type": "execute_result"
    }
   ],
   "source": [
    "loan_df['Loan_Status'].value_counts()"
   ]
  },
  {
   "cell_type": "code",
   "execution_count": 8,
   "id": "3065b577",
   "metadata": {
    "execution": {
     "iopub.execute_input": "2022-06-18T02:02:01.312661Z",
     "iopub.status.busy": "2022-06-18T02:02:01.312345Z",
     "iopub.status.idle": "2022-06-18T02:02:01.319947Z",
     "shell.execute_reply": "2022-06-18T02:02:01.319107Z"
    },
    "papermill": {
     "duration": 0.050863,
     "end_time": "2022-06-18T02:02:01.321875",
     "exception": false,
     "start_time": "2022-06-18T02:02:01.271012",
     "status": "completed"
    },
    "tags": []
   },
   "outputs": [
    {
     "data": {
      "text/plain": [
       "Loan_ID               object\n",
       "Gender                object\n",
       "Married               object\n",
       "Dependents            object\n",
       "Education             object\n",
       "Self_Employed         object\n",
       "ApplicantIncome        int64\n",
       "CoapplicantIncome    float64\n",
       "LoanAmount           float64\n",
       "Loan_Amount_Term     float64\n",
       "Credit_History       float64\n",
       "Property_Area         object\n",
       "Loan_Status            int64\n",
       "dtype: object"
      ]
     },
     "execution_count": 8,
     "metadata": {},
     "output_type": "execute_result"
    }
   ],
   "source": [
    "loan_df.dtypes"
   ]
  },
  {
   "cell_type": "code",
   "execution_count": 9,
   "id": "43a1d8ea",
   "metadata": {
    "execution": {
     "iopub.execute_input": "2022-06-18T02:02:01.405294Z",
     "iopub.status.busy": "2022-06-18T02:02:01.404829Z",
     "iopub.status.idle": "2022-06-18T02:02:01.419699Z",
     "shell.execute_reply": "2022-06-18T02:02:01.418885Z"
    },
    "papermill": {
     "duration": 0.059018,
     "end_time": "2022-06-18T02:02:01.421927",
     "exception": false,
     "start_time": "2022-06-18T02:02:01.362909",
     "status": "completed"
    },
    "tags": []
   },
   "outputs": [
    {
     "data": {
      "text/html": [
       "<div>\n",
       "<style scoped>\n",
       "    .dataframe tbody tr th:only-of-type {\n",
       "        vertical-align: middle;\n",
       "    }\n",
       "\n",
       "    .dataframe tbody tr th {\n",
       "        vertical-align: top;\n",
       "    }\n",
       "\n",
       "    .dataframe thead th {\n",
       "        text-align: right;\n",
       "    }\n",
       "</style>\n",
       "<table border=\"1\" class=\"dataframe\">\n",
       "  <thead>\n",
       "    <tr style=\"text-align: right;\">\n",
       "      <th></th>\n",
       "      <th>ApplicantIncome</th>\n",
       "      <th>CoapplicantIncome</th>\n",
       "      <th>LoanAmount</th>\n",
       "      <th>Loan_Amount_Term</th>\n",
       "      <th>Credit_History</th>\n",
       "      <th>Loan_Status</th>\n",
       "    </tr>\n",
       "  </thead>\n",
       "  <tbody>\n",
       "    <tr>\n",
       "      <th>ApplicantIncome</th>\n",
       "      <td>1.000000</td>\n",
       "      <td>-0.116605</td>\n",
       "      <td>0.570909</td>\n",
       "      <td>-0.045306</td>\n",
       "      <td>-0.014715</td>\n",
       "      <td>-0.004710</td>\n",
       "    </tr>\n",
       "    <tr>\n",
       "      <th>CoapplicantIncome</th>\n",
       "      <td>-0.116605</td>\n",
       "      <td>1.000000</td>\n",
       "      <td>0.188619</td>\n",
       "      <td>-0.059878</td>\n",
       "      <td>-0.002056</td>\n",
       "      <td>-0.059187</td>\n",
       "    </tr>\n",
       "    <tr>\n",
       "      <th>LoanAmount</th>\n",
       "      <td>0.570909</td>\n",
       "      <td>0.188619</td>\n",
       "      <td>1.000000</td>\n",
       "      <td>0.039447</td>\n",
       "      <td>-0.008433</td>\n",
       "      <td>-0.037318</td>\n",
       "    </tr>\n",
       "    <tr>\n",
       "      <th>Loan_Amount_Term</th>\n",
       "      <td>-0.045306</td>\n",
       "      <td>-0.059878</td>\n",
       "      <td>0.039447</td>\n",
       "      <td>1.000000</td>\n",
       "      <td>0.001470</td>\n",
       "      <td>-0.021268</td>\n",
       "    </tr>\n",
       "    <tr>\n",
       "      <th>Credit_History</th>\n",
       "      <td>-0.014715</td>\n",
       "      <td>-0.002056</td>\n",
       "      <td>-0.008433</td>\n",
       "      <td>0.001470</td>\n",
       "      <td>1.000000</td>\n",
       "      <td>0.561678</td>\n",
       "    </tr>\n",
       "    <tr>\n",
       "      <th>Loan_Status</th>\n",
       "      <td>-0.004710</td>\n",
       "      <td>-0.059187</td>\n",
       "      <td>-0.037318</td>\n",
       "      <td>-0.021268</td>\n",
       "      <td>0.561678</td>\n",
       "      <td>1.000000</td>\n",
       "    </tr>\n",
       "  </tbody>\n",
       "</table>\n",
       "</div>"
      ],
      "text/plain": [
       "                   ApplicantIncome  CoapplicantIncome  LoanAmount  \\\n",
       "ApplicantIncome           1.000000          -0.116605    0.570909   \n",
       "CoapplicantIncome        -0.116605           1.000000    0.188619   \n",
       "LoanAmount                0.570909           0.188619    1.000000   \n",
       "Loan_Amount_Term         -0.045306          -0.059878    0.039447   \n",
       "Credit_History           -0.014715          -0.002056   -0.008433   \n",
       "Loan_Status              -0.004710          -0.059187   -0.037318   \n",
       "\n",
       "                   Loan_Amount_Term  Credit_History  Loan_Status  \n",
       "ApplicantIncome           -0.045306       -0.014715    -0.004710  \n",
       "CoapplicantIncome         -0.059878       -0.002056    -0.059187  \n",
       "LoanAmount                 0.039447       -0.008433    -0.037318  \n",
       "Loan_Amount_Term           1.000000        0.001470    -0.021268  \n",
       "Credit_History             0.001470        1.000000     0.561678  \n",
       "Loan_Status               -0.021268        0.561678     1.000000  "
      ]
     },
     "execution_count": 9,
     "metadata": {},
     "output_type": "execute_result"
    }
   ],
   "source": [
    "loan_df.corr()"
   ]
  },
  {
   "cell_type": "code",
   "execution_count": 10,
   "id": "0dcf5242",
   "metadata": {
    "execution": {
     "iopub.execute_input": "2022-06-18T02:02:01.508765Z",
     "iopub.status.busy": "2022-06-18T02:02:01.508463Z",
     "iopub.status.idle": "2022-06-18T02:02:01.518442Z",
     "shell.execute_reply": "2022-06-18T02:02:01.517634Z"
    },
    "papermill": {
     "duration": 0.055401,
     "end_time": "2022-06-18T02:02:01.520754",
     "exception": false,
     "start_time": "2022-06-18T02:02:01.465353",
     "status": "completed"
    },
    "tags": []
   },
   "outputs": [
    {
     "data": {
      "text/plain": [
       "Loan_ID               0\n",
       "Gender               13\n",
       "Married               3\n",
       "Dependents           15\n",
       "Education             0\n",
       "Self_Employed        32\n",
       "ApplicantIncome       0\n",
       "CoapplicantIncome     0\n",
       "LoanAmount           22\n",
       "Loan_Amount_Term     14\n",
       "Credit_History       50\n",
       "Property_Area         0\n",
       "Loan_Status           0\n",
       "dtype: int64"
      ]
     },
     "execution_count": 10,
     "metadata": {},
     "output_type": "execute_result"
    }
   ],
   "source": [
    "loan_df.isnull().sum()"
   ]
  },
  {
   "cell_type": "code",
   "execution_count": 11,
   "id": "0d893897",
   "metadata": {
    "execution": {
     "iopub.execute_input": "2022-06-18T02:02:01.607724Z",
     "iopub.status.busy": "2022-06-18T02:02:01.606597Z",
     "iopub.status.idle": "2022-06-18T02:02:01.623385Z",
     "shell.execute_reply": "2022-06-18T02:02:01.622472Z"
    },
    "papermill": {
     "duration": 0.062453,
     "end_time": "2022-06-18T02:02:01.625666",
     "exception": false,
     "start_time": "2022-06-18T02:02:01.563213",
     "status": "completed"
    },
    "tags": []
   },
   "outputs": [],
   "source": [
    "loan_df['Gender'].fillna(value=loan_df['Gender'].mode()[0],inplace=True)\n",
    "loan_df['Married'].fillna(loan_df['Married'].mode()[0],inplace= True)\n",
    "loan_df['Dependents'].fillna(loan_df['Dependents'].mode()[0],inplace= True)\n",
    "loan_df['Self_Employed'].fillna(loan_df['Self_Employed'].mode()[0],inplace= True)\n",
    "loan_df['Credit_History'].fillna(loan_df['Credit_History'].mode()[0],inplace=True)\n",
    "loan_df['Loan_Amount_Term'].fillna(loan_df['Loan_Amount_Term'].mode()[0],inplace=True)\n",
    "loan_df['LoanAmount'].fillna(loan_df['LoanAmount'].median(),inplace=True)"
   ]
  },
  {
   "cell_type": "code",
   "execution_count": 12,
   "id": "36358d08",
   "metadata": {
    "execution": {
     "iopub.execute_input": "2022-06-18T02:02:01.713936Z",
     "iopub.status.busy": "2022-06-18T02:02:01.712984Z",
     "iopub.status.idle": "2022-06-18T02:02:01.722433Z",
     "shell.execute_reply": "2022-06-18T02:02:01.721544Z"
    },
    "papermill": {
     "duration": 0.056677,
     "end_time": "2022-06-18T02:02:01.724446",
     "exception": false,
     "start_time": "2022-06-18T02:02:01.667769",
     "status": "completed"
    },
    "tags": []
   },
   "outputs": [
    {
     "data": {
      "text/plain": [
       "Loan_ID              0\n",
       "Gender               0\n",
       "Married              0\n",
       "Dependents           0\n",
       "Education            0\n",
       "Self_Employed        0\n",
       "ApplicantIncome      0\n",
       "CoapplicantIncome    0\n",
       "LoanAmount           0\n",
       "Loan_Amount_Term     0\n",
       "Credit_History       0\n",
       "Property_Area        0\n",
       "Loan_Status          0\n",
       "dtype: int64"
      ]
     },
     "execution_count": 12,
     "metadata": {},
     "output_type": "execute_result"
    }
   ],
   "source": [
    "loan_df.isna().sum()"
   ]
  },
  {
   "cell_type": "code",
   "execution_count": 13,
   "id": "32c536ec",
   "metadata": {
    "execution": {
     "iopub.execute_input": "2022-06-18T02:02:01.810700Z",
     "iopub.status.busy": "2022-06-18T02:02:01.810393Z",
     "iopub.status.idle": "2022-06-18T02:02:01.829501Z",
     "shell.execute_reply": "2022-06-18T02:02:01.828560Z"
    },
    "papermill": {
     "duration": 0.064557,
     "end_time": "2022-06-18T02:02:01.831676",
     "exception": false,
     "start_time": "2022-06-18T02:02:01.767119",
     "status": "completed"
    },
    "tags": []
   },
   "outputs": [
    {
     "data": {
      "text/html": [
       "<div>\n",
       "<style scoped>\n",
       "    .dataframe tbody tr th:only-of-type {\n",
       "        vertical-align: middle;\n",
       "    }\n",
       "\n",
       "    .dataframe tbody tr th {\n",
       "        vertical-align: top;\n",
       "    }\n",
       "\n",
       "    .dataframe thead th {\n",
       "        text-align: right;\n",
       "    }\n",
       "</style>\n",
       "<table border=\"1\" class=\"dataframe\">\n",
       "  <thead>\n",
       "    <tr style=\"text-align: right;\">\n",
       "      <th></th>\n",
       "      <th>Loan_ID</th>\n",
       "      <th>Gender</th>\n",
       "      <th>Married</th>\n",
       "      <th>Dependents</th>\n",
       "      <th>Education</th>\n",
       "      <th>Self_Employed</th>\n",
       "      <th>ApplicantIncome</th>\n",
       "      <th>CoapplicantIncome</th>\n",
       "      <th>LoanAmount</th>\n",
       "      <th>Loan_Amount_Term</th>\n",
       "      <th>Credit_History</th>\n",
       "      <th>Property_Area</th>\n",
       "      <th>Loan_Status</th>\n",
       "    </tr>\n",
       "  </thead>\n",
       "  <tbody>\n",
       "    <tr>\n",
       "      <th>0</th>\n",
       "      <td>LP001002</td>\n",
       "      <td>Male</td>\n",
       "      <td>No</td>\n",
       "      <td>0</td>\n",
       "      <td>Graduate</td>\n",
       "      <td>No</td>\n",
       "      <td>5849</td>\n",
       "      <td>0.0</td>\n",
       "      <td>128.0</td>\n",
       "      <td>360.0</td>\n",
       "      <td>1.0</td>\n",
       "      <td>Urban</td>\n",
       "      <td>1</td>\n",
       "    </tr>\n",
       "    <tr>\n",
       "      <th>1</th>\n",
       "      <td>LP001003</td>\n",
       "      <td>Male</td>\n",
       "      <td>Yes</td>\n",
       "      <td>1</td>\n",
       "      <td>Graduate</td>\n",
       "      <td>No</td>\n",
       "      <td>4583</td>\n",
       "      <td>1508.0</td>\n",
       "      <td>128.0</td>\n",
       "      <td>360.0</td>\n",
       "      <td>1.0</td>\n",
       "      <td>Rural</td>\n",
       "      <td>0</td>\n",
       "    </tr>\n",
       "    <tr>\n",
       "      <th>2</th>\n",
       "      <td>LP001005</td>\n",
       "      <td>Male</td>\n",
       "      <td>Yes</td>\n",
       "      <td>0</td>\n",
       "      <td>Graduate</td>\n",
       "      <td>Yes</td>\n",
       "      <td>3000</td>\n",
       "      <td>0.0</td>\n",
       "      <td>66.0</td>\n",
       "      <td>360.0</td>\n",
       "      <td>1.0</td>\n",
       "      <td>Urban</td>\n",
       "      <td>1</td>\n",
       "    </tr>\n",
       "    <tr>\n",
       "      <th>3</th>\n",
       "      <td>LP001006</td>\n",
       "      <td>Male</td>\n",
       "      <td>Yes</td>\n",
       "      <td>0</td>\n",
       "      <td>Not Graduate</td>\n",
       "      <td>No</td>\n",
       "      <td>2583</td>\n",
       "      <td>2358.0</td>\n",
       "      <td>120.0</td>\n",
       "      <td>360.0</td>\n",
       "      <td>1.0</td>\n",
       "      <td>Urban</td>\n",
       "      <td>1</td>\n",
       "    </tr>\n",
       "    <tr>\n",
       "      <th>4</th>\n",
       "      <td>LP001008</td>\n",
       "      <td>Male</td>\n",
       "      <td>No</td>\n",
       "      <td>0</td>\n",
       "      <td>Graduate</td>\n",
       "      <td>No</td>\n",
       "      <td>6000</td>\n",
       "      <td>0.0</td>\n",
       "      <td>141.0</td>\n",
       "      <td>360.0</td>\n",
       "      <td>1.0</td>\n",
       "      <td>Urban</td>\n",
       "      <td>1</td>\n",
       "    </tr>\n",
       "  </tbody>\n",
       "</table>\n",
       "</div>"
      ],
      "text/plain": [
       "    Loan_ID Gender Married Dependents     Education Self_Employed  \\\n",
       "0  LP001002   Male      No          0      Graduate            No   \n",
       "1  LP001003   Male     Yes          1      Graduate            No   \n",
       "2  LP001005   Male     Yes          0      Graduate           Yes   \n",
       "3  LP001006   Male     Yes          0  Not Graduate            No   \n",
       "4  LP001008   Male      No          0      Graduate            No   \n",
       "\n",
       "   ApplicantIncome  CoapplicantIncome  LoanAmount  Loan_Amount_Term  \\\n",
       "0             5849                0.0       128.0             360.0   \n",
       "1             4583             1508.0       128.0             360.0   \n",
       "2             3000                0.0        66.0             360.0   \n",
       "3             2583             2358.0       120.0             360.0   \n",
       "4             6000                0.0       141.0             360.0   \n",
       "\n",
       "   Credit_History Property_Area  Loan_Status  \n",
       "0             1.0         Urban            1  \n",
       "1             1.0         Rural            0  \n",
       "2             1.0         Urban            1  \n",
       "3             1.0         Urban            1  \n",
       "4             1.0         Urban            1  "
      ]
     },
     "execution_count": 13,
     "metadata": {},
     "output_type": "execute_result"
    }
   ],
   "source": [
    "loan_df.head()"
   ]
  },
  {
   "cell_type": "markdown",
   "id": "b6e3252a",
   "metadata": {
    "papermill": {
     "duration": 0.042722,
     "end_time": "2022-06-18T02:02:01.918121",
     "exception": false,
     "start_time": "2022-06-18T02:02:01.875399",
     "status": "completed"
    },
    "tags": []
   },
   "source": [
    "**Convert categorical columns to numerical values.**"
   ]
  },
  {
   "cell_type": "code",
   "execution_count": 14,
   "id": "f0156c93",
   "metadata": {
    "execution": {
     "iopub.execute_input": "2022-06-18T02:02:02.006525Z",
     "iopub.status.busy": "2022-06-18T02:02:02.006257Z",
     "iopub.status.idle": "2022-06-18T02:02:02.019025Z",
     "shell.execute_reply": "2022-06-18T02:02:02.018334Z"
    },
    "papermill": {
     "duration": 0.059112,
     "end_time": "2022-06-18T02:02:02.021104",
     "exception": false,
     "start_time": "2022-06-18T02:02:01.961992",
     "status": "completed"
    },
    "tags": []
   },
   "outputs": [],
   "source": [
    "loan_df.replace({'Married':{'No':0,'Yes':1},'Gender':{'Male':1,'Female':0},'Self_Employed':{'Yes':1,'No':0},'Property_Area':{'Rural':0,'Urban':1,'Semiurban':2},'Education':{'Graduate':1,'Not Graduate':0}},inplace=True)"
   ]
  },
  {
   "cell_type": "code",
   "execution_count": 15,
   "id": "3c3cdc69",
   "metadata": {
    "execution": {
     "iopub.execute_input": "2022-06-18T02:02:02.110553Z",
     "iopub.status.busy": "2022-06-18T02:02:02.110061Z",
     "iopub.status.idle": "2022-06-18T02:02:02.126408Z",
     "shell.execute_reply": "2022-06-18T02:02:02.125851Z"
    },
    "papermill": {
     "duration": 0.06336,
     "end_time": "2022-06-18T02:02:02.128246",
     "exception": false,
     "start_time": "2022-06-18T02:02:02.064886",
     "status": "completed"
    },
    "tags": []
   },
   "outputs": [
    {
     "data": {
      "text/html": [
       "<div>\n",
       "<style scoped>\n",
       "    .dataframe tbody tr th:only-of-type {\n",
       "        vertical-align: middle;\n",
       "    }\n",
       "\n",
       "    .dataframe tbody tr th {\n",
       "        vertical-align: top;\n",
       "    }\n",
       "\n",
       "    .dataframe thead th {\n",
       "        text-align: right;\n",
       "    }\n",
       "</style>\n",
       "<table border=\"1\" class=\"dataframe\">\n",
       "  <thead>\n",
       "    <tr style=\"text-align: right;\">\n",
       "      <th></th>\n",
       "      <th>Loan_ID</th>\n",
       "      <th>Gender</th>\n",
       "      <th>Married</th>\n",
       "      <th>Dependents</th>\n",
       "      <th>Education</th>\n",
       "      <th>Self_Employed</th>\n",
       "      <th>ApplicantIncome</th>\n",
       "      <th>CoapplicantIncome</th>\n",
       "      <th>LoanAmount</th>\n",
       "      <th>Loan_Amount_Term</th>\n",
       "      <th>Credit_History</th>\n",
       "      <th>Property_Area</th>\n",
       "      <th>Loan_Status</th>\n",
       "    </tr>\n",
       "  </thead>\n",
       "  <tbody>\n",
       "    <tr>\n",
       "      <th>0</th>\n",
       "      <td>LP001002</td>\n",
       "      <td>1</td>\n",
       "      <td>0</td>\n",
       "      <td>0</td>\n",
       "      <td>1</td>\n",
       "      <td>0</td>\n",
       "      <td>5849</td>\n",
       "      <td>0.0</td>\n",
       "      <td>128.0</td>\n",
       "      <td>360.0</td>\n",
       "      <td>1.0</td>\n",
       "      <td>1</td>\n",
       "      <td>1</td>\n",
       "    </tr>\n",
       "    <tr>\n",
       "      <th>1</th>\n",
       "      <td>LP001003</td>\n",
       "      <td>1</td>\n",
       "      <td>1</td>\n",
       "      <td>1</td>\n",
       "      <td>1</td>\n",
       "      <td>0</td>\n",
       "      <td>4583</td>\n",
       "      <td>1508.0</td>\n",
       "      <td>128.0</td>\n",
       "      <td>360.0</td>\n",
       "      <td>1.0</td>\n",
       "      <td>0</td>\n",
       "      <td>0</td>\n",
       "    </tr>\n",
       "    <tr>\n",
       "      <th>2</th>\n",
       "      <td>LP001005</td>\n",
       "      <td>1</td>\n",
       "      <td>1</td>\n",
       "      <td>0</td>\n",
       "      <td>1</td>\n",
       "      <td>1</td>\n",
       "      <td>3000</td>\n",
       "      <td>0.0</td>\n",
       "      <td>66.0</td>\n",
       "      <td>360.0</td>\n",
       "      <td>1.0</td>\n",
       "      <td>1</td>\n",
       "      <td>1</td>\n",
       "    </tr>\n",
       "    <tr>\n",
       "      <th>3</th>\n",
       "      <td>LP001006</td>\n",
       "      <td>1</td>\n",
       "      <td>1</td>\n",
       "      <td>0</td>\n",
       "      <td>0</td>\n",
       "      <td>0</td>\n",
       "      <td>2583</td>\n",
       "      <td>2358.0</td>\n",
       "      <td>120.0</td>\n",
       "      <td>360.0</td>\n",
       "      <td>1.0</td>\n",
       "      <td>1</td>\n",
       "      <td>1</td>\n",
       "    </tr>\n",
       "    <tr>\n",
       "      <th>4</th>\n",
       "      <td>LP001008</td>\n",
       "      <td>1</td>\n",
       "      <td>0</td>\n",
       "      <td>0</td>\n",
       "      <td>1</td>\n",
       "      <td>0</td>\n",
       "      <td>6000</td>\n",
       "      <td>0.0</td>\n",
       "      <td>141.0</td>\n",
       "      <td>360.0</td>\n",
       "      <td>1.0</td>\n",
       "      <td>1</td>\n",
       "      <td>1</td>\n",
       "    </tr>\n",
       "  </tbody>\n",
       "</table>\n",
       "</div>"
      ],
      "text/plain": [
       "    Loan_ID  Gender  Married Dependents  Education  Self_Employed  \\\n",
       "0  LP001002       1        0          0          1              0   \n",
       "1  LP001003       1        1          1          1              0   \n",
       "2  LP001005       1        1          0          1              1   \n",
       "3  LP001006       1        1          0          0              0   \n",
       "4  LP001008       1        0          0          1              0   \n",
       "\n",
       "   ApplicantIncome  CoapplicantIncome  LoanAmount  Loan_Amount_Term  \\\n",
       "0             5849                0.0       128.0             360.0   \n",
       "1             4583             1508.0       128.0             360.0   \n",
       "2             3000                0.0        66.0             360.0   \n",
       "3             2583             2358.0       120.0             360.0   \n",
       "4             6000                0.0       141.0             360.0   \n",
       "\n",
       "   Credit_History  Property_Area  Loan_Status  \n",
       "0             1.0              1            1  \n",
       "1             1.0              0            0  \n",
       "2             1.0              1            1  \n",
       "3             1.0              1            1  \n",
       "4             1.0              1            1  "
      ]
     },
     "execution_count": 15,
     "metadata": {},
     "output_type": "execute_result"
    }
   ],
   "source": [
    "loan_df.head()"
   ]
  },
  {
   "cell_type": "markdown",
   "id": "3d23869c",
   "metadata": {
    "papermill": {
     "duration": 0.042976,
     "end_time": "2022-06-18T02:02:02.214588",
     "exception": false,
     "start_time": "2022-06-18T02:02:02.171612",
     "status": "completed"
    },
    "tags": []
   },
   "source": [
    "**Exploratory Analysis and Visualization**"
   ]
  },
  {
   "cell_type": "code",
   "execution_count": 16,
   "id": "5fc38113",
   "metadata": {
    "execution": {
     "iopub.execute_input": "2022-06-18T02:02:02.302369Z",
     "iopub.status.busy": "2022-06-18T02:02:02.301953Z",
     "iopub.status.idle": "2022-06-18T02:02:02.571696Z",
     "shell.execute_reply": "2022-06-18T02:02:02.570890Z"
    },
    "papermill": {
     "duration": 0.316062,
     "end_time": "2022-06-18T02:02:02.573884",
     "exception": false,
     "start_time": "2022-06-18T02:02:02.257822",
     "status": "completed"
    },
    "tags": []
   },
   "outputs": [
    {
     "data": {
      "text/plain": [
       "<AxesSubplot:>"
      ]
     },
     "execution_count": 16,
     "metadata": {},
     "output_type": "execute_result"
    },
    {
     "data": {
      "image/png": "[encoded data removed]",
      "text/plain": [
       "<Figure size 432x288 with 1 Axes>"
      ]
     },
     "metadata": {
      "needs_background": "light"
     },
     "output_type": "display_data"
    }
   ],
   "source": [
    "loan_df['ApplicantIncome'].hist()"
   ]
  },
  {
   "cell_type": "code",
   "execution_count": 17,
   "id": "fbe4bc70",
   "metadata": {
    "execution": {
     "iopub.execute_input": "2022-06-18T02:02:02.664671Z",
     "iopub.status.busy": "2022-06-18T02:02:02.663934Z",
     "iopub.status.idle": "2022-06-18T02:02:02.886453Z",
     "shell.execute_reply": "2022-06-18T02:02:02.885538Z"
    },
    "papermill": {
     "duration": 0.27061,
     "end_time": "2022-06-18T02:02:02.888866",
     "exception": false,
     "start_time": "2022-06-18T02:02:02.618256",
     "status": "completed"
    },
    "tags": []
   },
   "outputs": [
    {
     "data": {
      "text/plain": [
       "<AxesSubplot:>"
      ]
     },
     "execution_count": 17,
     "metadata": {},
     "output_type": "execute_result"
    },
    {
     "data": {
      "image/png": "[encoded data removed]",
      "text/plain": [
       "<Figure size 432x288 with 1 Axes>"
      ]
     },
     "metadata": {
      "needs_background": "light"
     },
     "output_type": "display_data"
    }
   ],
   "source": [
    "loan_df['LoanAmount'].hist()"
   ]
  },
  {
   "cell_type": "code",
   "execution_count": 18,
   "id": "2408fc60",
   "metadata": {
    "execution": {
     "iopub.execute_input": "2022-06-18T02:02:02.983922Z",
     "iopub.status.busy": "2022-06-18T02:02:02.983630Z",
     "iopub.status.idle": "2022-06-18T02:02:03.202194Z",
     "shell.execute_reply": "2022-06-18T02:02:03.201199Z"
    },
    "papermill": {
     "duration": 0.267646,
     "end_time": "2022-06-18T02:02:03.204166",
     "exception": false,
     "start_time": "2022-06-18T02:02:02.936520",
     "status": "completed"
    },
    "tags": []
   },
   "outputs": [
    {
     "data": {
      "text/plain": [
       "<AxesSubplot:title={'center':'ApplicantIncome'}, xlabel='Education'>"
      ]
     },
     "execution_count": 18,
     "metadata": {},
     "output_type": "execute_result"
    },
    {
     "data": {
      "image/png": "[encoded data removed]",
      "text/plain": [
       "<Figure size 432x288 with 1 Axes>"
      ]
     },
     "metadata": {
      "needs_background": "light"
     },
     "output_type": "display_data"
    }
   ],
   "source": [
    "loan_df.boxplot(column='ApplicantIncome', by = 'Education')"
   ]
  },
  {
   "cell_type": "code",
   "execution_count": 19,
   "id": "4d3ffc2a",
   "metadata": {
    "execution": {
     "iopub.execute_input": "2022-06-18T02:02:03.300476Z",
     "iopub.status.busy": "2022-06-18T02:02:03.299716Z",
     "iopub.status.idle": "2022-06-18T02:02:03.479397Z",
     "shell.execute_reply": "2022-06-18T02:02:03.478500Z"
    },
    "papermill": {
     "duration": 0.230832,
     "end_time": "2022-06-18T02:02:03.481773",
     "exception": false,
     "start_time": "2022-06-18T02:02:03.250941",
     "status": "completed"
    },
    "tags": []
   },
   "outputs": [
    {
     "data": {
      "text/plain": [
       "<AxesSubplot:>"
      ]
     },
     "execution_count": 19,
     "metadata": {},
     "output_type": "execute_result"
    },
    {
     "data": {
      "image/png": "[encoded data removed]",
      "text/plain": [
       "<Figure size 432x288 with 1 Axes>"
      ]
     },
     "metadata": {
      "needs_background": "light"
     },
     "output_type": "display_data"
    }
   ],
   "source": [
    "loan_df.boxplot(column='LoanAmount')"
   ]
  },
  {
   "cell_type": "code",
   "execution_count": 20,
   "id": "bee47772",
   "metadata": {
    "execution": {
     "iopub.execute_input": "2022-06-18T02:02:03.579909Z",
     "iopub.status.busy": "2022-06-18T02:02:03.579435Z",
     "iopub.status.idle": "2022-06-18T02:02:03.828119Z",
     "shell.execute_reply": "2022-06-18T02:02:03.827012Z"
    },
    "papermill": {
     "duration": 0.299982,
     "end_time": "2022-06-18T02:02:03.830115",
     "exception": false,
     "start_time": "2022-06-18T02:02:03.530133",
     "status": "completed"
    },
    "tags": []
   },
   "outputs": [
    {
     "data": {
      "text/plain": [
       "<AxesSubplot:>"
      ]
     },
     "execution_count": 20,
     "metadata": {},
     "output_type": "execute_result"
    },
    {
     "data": {
      "image/png": "[encoded data removed]",
      "text/plain": [
       "<Figure size 432x288 with 1 Axes>"
      ]
     },
     "metadata": {
      "needs_background": "light"
     },
     "output_type": "display_data"
    }
   ],
   "source": [
    "loan_df['LoanAmount'].hist(bins=20)"
   ]
  },
  {
   "cell_type": "code",
   "execution_count": 21,
   "id": "c63a3baf",
   "metadata": {
    "execution": {
     "iopub.execute_input": "2022-06-18T02:02:03.931120Z",
     "iopub.status.busy": "2022-06-18T02:02:03.930517Z",
     "iopub.status.idle": "2022-06-18T02:02:04.135861Z",
     "shell.execute_reply": "2022-06-18T02:02:04.135057Z"
    },
    "papermill": {
     "duration": 0.258132,
     "end_time": "2022-06-18T02:02:04.137991",
     "exception": false,
     "start_time": "2022-06-18T02:02:03.879859",
     "status": "completed"
    },
    "tags": []
   },
   "outputs": [
    {
     "data": {
      "text/plain": [
       "<AxesSubplot:xlabel='Education', ylabel='count'>"
      ]
     },
     "execution_count": 21,
     "metadata": {},
     "output_type": "execute_result"
    },
    {
     "data": {
      "image/png": "[encoded data removed]",
      "text/plain": [
       "<Figure size 432x288 with 1 Axes>"
      ]
     },
     "metadata": {
      "needs_background": "light"
     },
     "output_type": "display_data"
    }
   ],
   "source": [
    "sns.countplot(x='Education',hue='Loan_Status',data=loan_df)"
   ]
  },
  {
   "cell_type": "code",
   "execution_count": 22,
   "id": "6449a8f4",
   "metadata": {
    "execution": {
     "iopub.execute_input": "2022-06-18T02:02:04.241194Z",
     "iopub.status.busy": "2022-06-18T02:02:04.240101Z",
     "iopub.status.idle": "2022-06-18T02:02:05.551685Z",
     "shell.execute_reply": "2022-06-18T02:02:05.550753Z"
    },
    "papermill": {
     "duration": 1.365489,
     "end_time": "2022-06-18T02:02:05.553934",
     "exception": false,
     "start_time": "2022-06-18T02:02:04.188445",
     "status": "completed"
    },
    "tags": []
   },
   "outputs": [
    {
     "data": {
      "image/png": "[encoded data removed]",
      "text/plain": [
       "<Figure size 1080x720 with 10 Axes>"
      ]
     },
     "metadata": {
      "needs_background": "light"
     },
     "output_type": "display_data"
    }
   ],
   "source": [
    "f=loan_df.groupby(\"Gender\").mean().plot(kind=\"bar\",subplots=True,sharex=False,sharey=False,figsize=(15,10),layout=(2,5),alpha=0.7,title=\"According to Gender\")\n",
    "f= sns.set_style(\"darkgrid\")\n",
    "f=sns.set_context(\"paper\")\n",
    "plt.show()"
   ]
  },
  {
   "cell_type": "code",
   "execution_count": 23,
   "id": "5efd394e",
   "metadata": {
    "execution": {
     "iopub.execute_input": "2022-06-18T02:02:05.662181Z",
     "iopub.status.busy": "2022-06-18T02:02:05.661885Z",
     "iopub.status.idle": "2022-06-18T02:02:05.669178Z",
     "shell.execute_reply": "2022-06-18T02:02:05.668349Z"
    },
    "papermill": {
     "duration": 0.06396,
     "end_time": "2022-06-18T02:02:05.671485",
     "exception": false,
     "start_time": "2022-06-18T02:02:05.607525",
     "status": "completed"
    },
    "tags": []
   },
   "outputs": [
    {
     "data": {
      "text/plain": [
       "0     360\n",
       "1     102\n",
       "2     101\n",
       "3+     51\n",
       "Name: Dependents, dtype: int64"
      ]
     },
     "execution_count": 23,
     "metadata": {},
     "output_type": "execute_result"
    }
   ],
   "source": [
    "#Dependent column values\n",
    "loan_df['Dependents'].value_counts()"
   ]
  },
  {
   "cell_type": "code",
   "execution_count": 24,
   "id": "d1cf47ce",
   "metadata": {
    "execution": {
     "iopub.execute_input": "2022-06-18T02:02:05.779711Z",
     "iopub.status.busy": "2022-06-18T02:02:05.779419Z",
     "iopub.status.idle": "2022-06-18T02:02:05.784616Z",
     "shell.execute_reply": "2022-06-18T02:02:05.783523Z"
    },
    "papermill": {
     "duration": 0.062357,
     "end_time": "2022-06-18T02:02:05.786829",
     "exception": false,
     "start_time": "2022-06-18T02:02:05.724472",
     "status": "completed"
    },
    "tags": []
   },
   "outputs": [],
   "source": [
    "#replacing the value of 3+ to 4\n",
    "loan_df=loan_df.replace(to_replace='3+',value=4)"
   ]
  },
  {
   "cell_type": "code",
   "execution_count": 25,
   "id": "23e88fb1",
   "metadata": {
    "execution": {
     "iopub.execute_input": "2022-06-18T02:02:05.894642Z",
     "iopub.status.busy": "2022-06-18T02:02:05.894108Z",
     "iopub.status.idle": "2022-06-18T02:02:05.901377Z",
     "shell.execute_reply": "2022-06-18T02:02:05.900401Z"
    },
    "papermill": {
     "duration": 0.063423,
     "end_time": "2022-06-18T02:02:05.903562",
     "exception": false,
     "start_time": "2022-06-18T02:02:05.840139",
     "status": "completed"
    },
    "tags": []
   },
   "outputs": [
    {
     "data": {
      "text/plain": [
       "0    360\n",
       "1    102\n",
       "2    101\n",
       "4     51\n",
       "Name: Dependents, dtype: int64"
      ]
     },
     "execution_count": 25,
     "metadata": {},
     "output_type": "execute_result"
    }
   ],
   "source": [
    "loan_df['Dependents'].value_counts()"
   ]
  },
  {
   "cell_type": "code",
   "execution_count": 26,
   "id": "347ced82",
   "metadata": {
    "execution": {
     "iopub.execute_input": "2022-06-18T02:02:06.013078Z",
     "iopub.status.busy": "2022-06-18T02:02:06.012789Z",
     "iopub.status.idle": "2022-06-18T02:02:06.018620Z",
     "shell.execute_reply": "2022-06-18T02:02:06.017773Z"
    },
    "papermill": {
     "duration": 0.062713,
     "end_time": "2022-06-18T02:02:06.020647",
     "exception": false,
     "start_time": "2022-06-18T02:02:05.957934",
     "status": "completed"
    },
    "tags": []
   },
   "outputs": [],
   "source": [
    "#Splitting the data and label\n",
    "X=loan_df.drop(columns=['Loan_ID','Loan_Status'],axis=1)\n",
    "Y=loan_df['Loan_Status']"
   ]
  },
  {
   "cell_type": "code",
   "execution_count": 27,
   "id": "b93a3586",
   "metadata": {
    "execution": {
     "iopub.execute_input": "2022-06-18T02:02:06.129354Z",
     "iopub.status.busy": "2022-06-18T02:02:06.128839Z",
     "iopub.status.idle": "2022-06-18T02:02:06.142383Z",
     "shell.execute_reply": "2022-06-18T02:02:06.141747Z"
    },
    "papermill": {
     "duration": 0.070558,
     "end_time": "2022-06-18T02:02:06.145175",
     "exception": false,
     "start_time": "2022-06-18T02:02:06.074617",
     "status": "completed"
    },
    "tags": []
   },
   "outputs": [
    {
     "name": "stdout",
     "output_type": "stream",
     "text": [
      "     Gender  Married Dependents  Education  Self_Employed  ApplicantIncome  \\\n",
      "0         1        0          0          1              0             5849   \n",
      "1         1        1          1          1              0             4583   \n",
      "2         1        1          0          1              1             3000   \n",
      "3         1        1          0          0              0             2583   \n",
      "4         1        0          0          1              0             6000   \n",
      "..      ...      ...        ...        ...            ...              ...   \n",
      "609       0        0          0          1              0             2900   \n",
      "610       1        1          4          1              0             4106   \n",
      "611       1        1          1          1              0             8072   \n",
      "612       1        1          2          1              0             7583   \n",
      "613       0        0          0          1              1             4583   \n",
      "\n",
      "     CoapplicantIncome  LoanAmount  Loan_Amount_Term  Credit_History  \\\n",
      "0                  0.0       128.0             360.0             1.0   \n",
      "1               1508.0       128.0             360.0             1.0   \n",
      "2                  0.0        66.0             360.0             1.0   \n",
      "3               2358.0       120.0             360.0             1.0   \n",
      "4                  0.0       141.0             360.0             1.0   \n",
      "..                 ...         ...               ...             ...   \n",
      "609                0.0        71.0             360.0             1.0   \n",
      "610                0.0        40.0             180.0             1.0   \n",
      "611              240.0       253.0             360.0             1.0   \n",
      "612                0.0       187.0             360.0             1.0   \n",
      "613                0.0       133.0             360.0             0.0   \n",
      "\n",
      "     Property_Area  \n",
      "0                1  \n",
      "1                0  \n",
      "2                1  \n",
      "3                1  \n",
      "4                1  \n",
      "..             ...  \n",
      "609              0  \n",
      "610              0  \n",
      "611              1  \n",
      "612              1  \n",
      "613              2  \n",
      "\n",
      "[614 rows x 11 columns]\n",
      "0      1\n",
      "1      0\n",
      "2      1\n",
      "3      1\n",
      "4      1\n",
      "      ..\n",
      "609    1\n",
      "610    1\n",
      "611    1\n",
      "612    1\n",
      "613    0\n",
      "Name: Loan_Status, Length: 614, dtype: int64\n"
     ]
    }
   ],
   "source": [
    "print(X)\n",
    "print(Y)"
   ]
  },
  {
   "cell_type": "code",
   "execution_count": 28,
   "id": "75882143",
   "metadata": {
    "execution": {
     "iopub.execute_input": "2022-06-18T02:02:06.254941Z",
     "iopub.status.busy": "2022-06-18T02:02:06.254460Z",
     "iopub.status.idle": "2022-06-18T02:02:06.262128Z",
     "shell.execute_reply": "2022-06-18T02:02:06.261546Z"
    },
    "papermill": {
     "duration": 0.064297,
     "end_time": "2022-06-18T02:02:06.264015",
     "exception": false,
     "start_time": "2022-06-18T02:02:06.199718",
     "status": "completed"
    },
    "tags": []
   },
   "outputs": [],
   "source": [
    "X_train,X_test,Y_train,Y_test=train_test_split(X,Y,test_size=0.1,random_state=2,stratify=Y)"
   ]
  },
  {
   "cell_type": "code",
   "execution_count": 29,
   "id": "e895f71b",
   "metadata": {
    "execution": {
     "iopub.execute_input": "2022-06-18T02:02:06.373087Z",
     "iopub.status.busy": "2022-06-18T02:02:06.372550Z",
     "iopub.status.idle": "2022-06-18T02:02:06.377887Z",
     "shell.execute_reply": "2022-06-18T02:02:06.376831Z"
    },
    "papermill": {
     "duration": 0.06239,
     "end_time": "2022-06-18T02:02:06.379902",
     "exception": false,
     "start_time": "2022-06-18T02:02:06.317512",
     "status": "completed"
    },
    "tags": []
   },
   "outputs": [
    {
     "name": "stdout",
     "output_type": "stream",
     "text": [
      "(614, 11) (62, 11) (614,) (62, 11)\n"
     ]
    }
   ],
   "source": [
    "print(X.shape,X_test.shape,Y.shape,X_test.shape)"
   ]
  },
  {
   "cell_type": "code",
   "execution_count": 30,
   "id": "032fd89b",
   "metadata": {
    "execution": {
     "iopub.execute_input": "2022-06-18T02:02:06.499934Z",
     "iopub.status.busy": "2022-06-18T02:02:06.499398Z",
     "iopub.status.idle": "2022-06-18T02:02:06.503366Z",
     "shell.execute_reply": "2022-06-18T02:02:06.502666Z"
    },
    "papermill": {
     "duration": 0.070118,
     "end_time": "2022-06-18T02:02:06.505840",
     "exception": false,
     "start_time": "2022-06-18T02:02:06.435722",
     "status": "completed"
    },
    "tags": []
   },
   "outputs": [],
   "source": [
    "classifier = svm.SVC(kernel='linear')"
   ]
  },
  {
   "cell_type": "code",
   "execution_count": 31,
   "id": "2da4d4c2",
   "metadata": {
    "execution": {
     "iopub.execute_input": "2022-06-18T02:02:06.616677Z",
     "iopub.status.busy": "2022-06-18T02:02:06.616221Z",
     "iopub.status.idle": "2022-06-18T02:03:45.827656Z",
     "shell.execute_reply": "2022-06-18T02:03:45.826647Z"
    },
    "papermill": {
     "duration": 99.322767,
     "end_time": "2022-06-18T02:03:45.883976",
     "exception": false,
     "start_time": "2022-06-18T02:02:06.561209",
     "status": "completed"
    },
    "tags": []
   },
   "outputs": [
    {
     "data": {
      "text/plain": [
       "SVC(kernel='linear')"
      ]
     },
     "execution_count": 31,
     "metadata": {},
     "output_type": "execute_result"
    }
   ],
   "source": [
    "classifier.fit(X_train,Y_train)"
   ]
  },
  {
   "cell_type": "markdown",
   "id": "6e37b9bc",
   "metadata": {
    "papermill": {
     "duration": 0.056143,
     "end_time": "2022-06-18T02:03:45.995388",
     "exception": false,
     "start_time": "2022-06-18T02:03:45.939245",
     "status": "completed"
    },
    "tags": []
   },
   "source": [
    "**Model Evaluation**"
   ]
  },
  {
   "cell_type": "code",
   "execution_count": 32,
   "id": "79869caf",
   "metadata": {
    "execution": {
     "iopub.execute_input": "2022-06-18T02:03:46.108042Z",
     "iopub.status.busy": "2022-06-18T02:03:46.107455Z",
     "iopub.status.idle": "2022-06-18T02:03:46.118595Z",
     "shell.execute_reply": "2022-06-18T02:03:46.117957Z"
    },
    "papermill": {
     "duration": 0.068962,
     "end_time": "2022-06-18T02:03:46.120683",
     "exception": false,
     "start_time": "2022-06-18T02:03:46.051721",
     "status": "completed"
    },
    "tags": []
   },
   "outputs": [],
   "source": [
    "X_train_prediction = classifier.predict(X_train)\n",
    "training_data_accuracy = accuracy_score (X_train_prediction,Y_train)"
   ]
  },
  {
   "cell_type": "code",
   "execution_count": 33,
   "id": "3d78f7ed",
   "metadata": {
    "execution": {
     "iopub.execute_input": "2022-06-18T02:03:46.231055Z",
     "iopub.status.busy": "2022-06-18T02:03:46.230603Z",
     "iopub.status.idle": "2022-06-18T02:03:46.235910Z",
     "shell.execute_reply": "2022-06-18T02:03:46.234873Z"
    },
    "papermill": {
     "duration": 0.062753,
     "end_time": "2022-06-18T02:03:46.237827",
     "exception": false,
     "start_time": "2022-06-18T02:03:46.175074",
     "status": "completed"
    },
    "tags": []
   },
   "outputs": [
    {
     "name": "stdout",
     "output_type": "stream",
     "text": [
      "Accuracy score on training data :  0.7934782608695652\n"
     ]
    }
   ],
   "source": [
    "print('Accuracy score on training data : ',training_data_accuracy)"
   ]
  },
  {
   "cell_type": "code",
   "execution_count": 34,
   "id": "8e09bae3",
   "metadata": {
    "execution": {
     "iopub.execute_input": "2022-06-18T02:03:46.348794Z",
     "iopub.status.busy": "2022-06-18T02:03:46.348210Z",
     "iopub.status.idle": "2022-06-18T02:03:46.355185Z",
     "shell.execute_reply": "2022-06-18T02:03:46.354587Z"
    },
    "papermill": {
     "duration": 0.064579,
     "end_time": "2022-06-18T02:03:46.357089",
     "exception": false,
     "start_time": "2022-06-18T02:03:46.292510",
     "status": "completed"
    },
    "tags": []
   },
   "outputs": [],
   "source": [
    "# accuracy score on test data\n",
    "X_test_prediction = classifier.predict(X_test)\n",
    "test_data_accuracy = accuracy_score (X_test_prediction,Y_test)"
   ]
  },
  {
   "cell_type": "code",
   "execution_count": 35,
   "id": "609b8b10",
   "metadata": {
    "execution": {
     "iopub.execute_input": "2022-06-18T02:03:46.471473Z",
     "iopub.status.busy": "2022-06-18T02:03:46.471002Z",
     "iopub.status.idle": "2022-06-18T02:03:46.476321Z",
     "shell.execute_reply": "2022-06-18T02:03:46.475372Z"
    },
    "papermill": {
     "duration": 0.067659,
     "end_time": "2022-06-18T02:03:46.479366",
     "exception": false,
     "start_time": "2022-06-18T02:03:46.411707",
     "status": "completed"
    },
    "tags": []
   },
   "outputs": [
    {
     "name": "stdout",
     "output_type": "stream",
     "text": [
      "Accuracy score on test data: 0.8064516129032258\n"
     ]
    }
   ],
   "source": [
    "print('Accuracy score on test data:',test_data_accuracy)"
   ]
  },
  {
   "cell_type": "code",
   "execution_count": null,
   "id": "3b9fb9fd",
   "metadata": {
    "papermill": {
     "duration": 0.054768,
     "end_time": "2022-06-18T02:03:46.590634",
     "exception": false,
     "start_time": "2022-06-18T02:03:46.535866",
     "status": "completed"
    },
    "tags": []
   },
   "outputs": [],
   "source": []
  }
 ],
 "metadata": {
  "kernelspec": {
   "display_name": "Python 3",
   "language": "python",
   "name": "python3"
  },
  "language_info": {
   "codemirror_mode": {
    "name": "ipython",
    "version": 3
   },
   "file_extension": ".py",
   "mimetype": "text/x-python",
   "name": "python",
   "nbconvert_exporter": "python",
   "pygments_lexer": "ipython3",
   "version": "3.7.12"
  },
  "papermill": {
   "default_parameters": {},
   "duration": 118.242213,
   "end_time": "2022-06-18T02:03:47.466752",
   "environment_variables": {},
   "exception": null,
   "input_path": "__notebook__.ipynb",
   "output_path": "__notebook__.ipynb",
   "parameters": {},
   "start_time": "2022-06-18T02:01:49.224539",
   "version": "2.3.4"
  }
 },
 "nbformat": 4,
 "nbformat_minor": 5
}
